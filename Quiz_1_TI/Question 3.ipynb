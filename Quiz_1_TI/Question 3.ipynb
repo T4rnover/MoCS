{
 "cells": [
  {
   "cell_type": "markdown",
   "id": "ab48fbf3",
   "metadata": {},
   "source": [
    "   ## Relationship between Euler's Method and Discrete-time Model"
   ]
  },
  {
   "cell_type": "markdown",
   "id": "8d6a79a8",
   "metadata": {},
   "source": [
    "Euler's forward method is very similar to a discrete time model. In Euler's method, small increases and decreases in x (a state variable) are accumulated over changes in time. This is a discretized formula whose solution approaches the true solution of the original (continuous) differential equation as the change in time approaches 0 (lim delta T --> 0). As the discrete time steps get smaller and smaller, the model becomes a closer and closer approximation of a continuous-time model. This is similar to how the summed areas of smaller and smaller triangles within a circle can become a more and more accurate approximation of the area of the circle. In a discrete model, the change in time/delta t is always +1, but in the Euler method, delta t becomes smaller and smaller and not always be one. "
   ]
  },
  {
   "cell_type": "code",
   "execution_count": 63,
   "id": "fd0cd628",
   "metadata": {},
   "outputs": [],
   "source": [
    "from pylab import *"
   ]
  },
  {
   "cell_type": "code",
   "execution_count": 64,
   "id": "313945ba",
   "metadata": {},
   "outputs": [],
   "source": [
    "import ipywidgets as widgets"
   ]
  },
  {
   "cell_type": "code",
   "execution_count": 65,
   "id": "5942cffe",
   "metadata": {},
   "outputs": [],
   "source": [
    "from IPython.display import display"
   ]
  },
  {
   "cell_type": "markdown",
   "id": "d1ba7081",
   "metadata": {},
   "source": [
    "## Euler's Method"
   ]
  },
  {
   "cell_type": "code",
   "execution_count": 129,
   "id": "d2df02e5",
   "metadata": {},
   "outputs": [],
   "source": [
    "#K= carrying capacity of system\n",
    "#r= rate/coefficient that determines change in state variable x per time step h\n",
    "\n",
    "def initialize():\n",
    "    global x, result, t, timesteps\n",
    "    #initial state of x\n",
    "    x= 0.1\n",
    "    result = [x]\n",
    "    #initial time\n",
    "    t= 0.\n",
    "    timesteps= [t]"
   ]
  },
  {
   "cell_type": "code",
   "execution_count": 130,
   "id": "8dcb25fd",
   "metadata": {},
   "outputs": [],
   "source": [
    "def observe():\n",
    "    global x, result, t, timesteps\n",
    "    result.append(x)\n",
    "    timesteps.append(t)"
   ]
  },
  {
   "cell_type": "code",
   "execution_count": 160,
   "id": "2b8f1e87",
   "metadata": {},
   "outputs": [],
   "source": [
    "#h= delta t/change in time/step size\n",
    "def update(h, r, K):\n",
    "    global x, result, t, timesteps\n",
    "    #new x = old x plus change in x, adjusted for capacity, times h/step size\n",
    "    x= x + r * x**2 * (1-x/K) * h\n",
    "    t= t +  h"
   ]
  },
  {
   "cell_type": "code",
   "execution_count": 161,
   "id": "88bb4790",
   "metadata": {},
   "outputs": [
    {
     "data": {
      "application/vnd.jupyter.widget-view+json": {
       "model_id": "1f248d70960f4bf59b1e5a7e538ccfa9",
       "version_major": 2,
       "version_minor": 0
      },
      "text/plain": [
       "FloatSlider(value=0.001, description='h=', max=10.0, min=0.001, readout_format='0.3f', step=0.001)"
      ]
     },
     "metadata": {},
     "output_type": "display_data"
    }
   ],
   "source": [
    "#Slider to control h/timestep size if desired\n",
    "w1 = widgets.FloatSlider(\n",
    "    min=0.001,\n",
    "    max=10.,\n",
    "    step=0.001,\n",
    "    description='h=',\n",
    "    disabled=False,\n",
    "    continuous_update=True,\n",
    "    orientation='horizontal',\n",
    "    readout=True,\n",
    "    readout_format='0.3f')\n",
    "display(w1)"
   ]
  },
  {
   "cell_type": "code",
   "execution_count": 147,
   "id": "5f3103a1",
   "metadata": {},
   "outputs": [
    {
     "data": {
      "application/vnd.jupyter.widget-view+json": {
       "model_id": "09928fd9f5db49a0984fcffb69e113f3",
       "version_major": 2,
       "version_minor": 0
      },
      "text/plain": [
       "FloatSlider(value=0.001, description='h=', max=10.0, min=0.001, readout_format='0.3f', step=0.001)"
      ]
     },
     "metadata": {},
     "output_type": "display_data"
    }
   ],
   "source": [
    "#Slider to control h/timestep size\n",
    "w2 = widgets.FloatSlider(\n",
    "    min=0.001,\n",
    "    max=10.,\n",
    "    step=0.001,\n",
    "    description='h=',\n",
    "    disabled=False,\n",
    "    continuous_update=True,\n",
    "    orientation='horizontal',\n",
    "    readout=True,\n",
    "    readout_format='0.3f')\n",
    "display(w2)"
   ]
  },
  {
   "cell_type": "code",
   "execution_count": 162,
   "id": "98ac6e59",
   "metadata": {},
   "outputs": [],
   "source": [
    "#to show difference between low h and high h\n",
    "h1= w1.value\n",
    "h2= w2.value"
   ]
  },
  {
   "cell_type": "code",
   "execution_count": 163,
   "id": "bd9cbc79",
   "metadata": {},
   "outputs": [],
   "source": [
    "initialize()\n",
    "while t < 100:\n",
    "    update(h1, 0.2, 1.0)\n",
    "    observe()\n",
    "timesteps1= timesteps\n",
    "result1= result"
   ]
  },
  {
   "cell_type": "code",
   "execution_count": 164,
   "id": "2c6d3501",
   "metadata": {},
   "outputs": [],
   "source": [
    "initialize()\n",
    "while t < 100:\n",
    "    update(h2, 0.2, 1.0)\n",
    "    observe()\n",
    "timesteps2= timesteps\n",
    "result2= result"
   ]
  },
  {
   "cell_type": "code",
   "execution_count": 165,
   "id": "21b14e3a",
   "metadata": {},
   "outputs": [
    {
     "data": {
      "image/png": "[encoded data removed]",
      "text/plain": [
       "<Figure size 432x288 with 1 Axes>"
      ]
     },
     "metadata": {
      "needs_background": "light"
     },
     "output_type": "display_data"
    }
   ],
   "source": [
    "plot(timesteps1, result1, label='small h')\n",
    "plot(timesteps2, result2, label='large h')\n",
    "xlabel('Time')\n",
    "ylabel('x')\n",
    "title('Results: Euler\\'s Method')\n",
    "legend()\n",
    "savefig('Small h vs Large H.png')"
   ]
  },
  {
   "cell_type": "markdown",
   "id": "1f922683",
   "metadata": {},
   "source": [
    "## Heun's Method"
   ]
  },
  {
   "cell_type": "code",
   "execution_count": 43,
   "id": "a3b24198",
   "metadata": {},
   "outputs": [],
   "source": [
    "#initialize and observe steps can be the same, need to change the update step only"
   ]
  },
  {
   "cell_type": "code",
   "execution_count": 166,
   "id": "4d8337f5",
   "metadata": {},
   "outputs": [],
   "source": [
    "def update_e(h, r, K):\n",
    "    global x, result, t, timesteps\n",
    "    #new x = old x plus change in x, adjusted for capacity, times h/step size\n",
    "    xe= x + r * x**2 * (1-x/K) * h\n",
    "    x= x + (((r * x**2 * (1-x/K))+(r * xe**2 * (1-x/K)))/2) * h\n",
    "    t= t +  h"
   ]
  },
  {
   "cell_type": "code",
   "execution_count": 172,
   "id": "799db358",
   "metadata": {},
   "outputs": [],
   "source": [
    "initialize()\n",
    "while t < 100:\n",
    "    update_e(h1, 0.2, 1.0)\n",
    "    observe()\n",
    "timesteps1e= timesteps\n",
    "result1e= result"
   ]
  },
  {
   "cell_type": "code",
   "execution_count": 173,
   "id": "e62e2e71",
   "metadata": {},
   "outputs": [],
   "source": [
    "initialize()\n",
    "while t < 100:\n",
    "    update(10, 0.2, 1.0)\n",
    "    observe()\n",
    "timesteps2e= timesteps\n",
    "result2e= result"
   ]
  },
  {
   "cell_type": "code",
   "execution_count": 174,
   "id": "75a1ece8",
   "metadata": {},
   "outputs": [
    {
     "data": {
      "text/plain": [
       "<matplotlib.legend.Legend at 0x7fc5ff57cd30>"
      ]
     },
     "execution_count": 174,
     "metadata": {},
     "output_type": "execute_result"
    },
    {
     "data": {
      "image/png": "[encoded data removed]",
      "text/plain": [
       "<Figure size 432x288 with 1 Axes>"
      ]
     },
     "metadata": {
      "needs_background": "light"
     },
     "output_type": "display_data"
    }
   ],
   "source": [
    "plot(timesteps1e, result1e, label='small h')\n",
    "plot(timesteps2e, result2e, label='large h')\n",
    "xlabel('Time')\n",
    "ylabel('x')\n",
    "title('Results: Heun\\'s Method')\n",
    "legend()\n",
    "#savefig('Small h vs Large H Heun.png')"
   ]
  },
  {
   "cell_type": "markdown",
   "id": "8fd04ee8",
   "metadata": {},
   "source": [
    "## Euler's Method, SIS Model"
   ]
  },
  {
   "cell_type": "code",
   "execution_count": 68,
   "id": "baf2e683",
   "metadata": {},
   "outputs": [],
   "source": [
    "#let's make it more like an SIS model\n",
    "#now there are 2 variables involved, S and I\n",
    "#K is now N which is S + I, the total # in population "
   ]
  },
  {
   "cell_type": "markdown",
   "id": "73e8a72e",
   "metadata": {},
   "source": [
    "This is the part not working very well "
   ]
  },
  {
   "cell_type": "code",
   "execution_count": 100,
   "id": "129d1ac2",
   "metadata": {},
   "outputs": [],
   "source": [
    "#need to tweak initialize and observe a bit on this one\n",
    "\n",
    "def Initialize(N):\n",
    "    global S, I, resultS, resultI, t, timesteps\n",
    "    #initial state of x\n",
    "    S= N-1\n",
    "    #start with 1 infected?)\n",
    "    I= 1\n",
    "    N= N\n",
    "    resultS = [S]\n",
    "    resultI= [I]\n",
    "    #initial time\n",
    "    t= 0.\n",
    "    timesteps= [t]\n",
    "    \n",
    "def Observe():\n",
    "    global S, I, N, resultS, resultI, t, timesteps\n",
    "    #could also have it be tuples but this makes plotting easier \n",
    "    resultS.append(S)\n",
    "    resultI.append(I)\n",
    "    timesteps.append(t)\n"
   ]
  },
  {
   "cell_type": "code",
   "execution_count": 101,
   "id": "5b7f71ee",
   "metadata": {},
   "outputs": [],
   "source": [
    "#h is still timestep, B is Beta/infection rate, a is alpha/recovery rate\n",
    "def Update(h, B, a):\n",
    "    global S, I, N, resultS, resultI, t, timesteps\n",
    "    #I= I + (B*S*I - a*I) * h\n",
    "    #S= S + (-B*S*I + a*I)* h\n",
    "    I= I + (B*N-a)*I*h\n",
    "    t= t +  h"
   ]
  },
  {
   "cell_type": "code",
   "execution_count": 102,
   "id": "6d90b815",
   "metadata": {},
   "outputs": [],
   "source": [
    "Initialize(1000)"
   ]
  },
  {
   "cell_type": "code",
   "execution_count": 103,
   "id": "52de9982",
   "metadata": {},
   "outputs": [
    {
     "ename": "NameError",
     "evalue": "name 'N' is not defined",
     "output_type": "error",
     "traceback": [
      "\u001b[0;31m---------------------------------------------------------------------------\u001b[0m",
      "\u001b[0;31mNameError\u001b[0m                                 Traceback (most recent call last)",
      "Input \u001b[0;32mIn [103]\u001b[0m, in \u001b[0;36m<cell line: 1>\u001b[0;34m()\u001b[0m\n\u001b[1;32m      1\u001b[0m \u001b[38;5;28;01mwhile\u001b[39;00m t \u001b[38;5;241m<\u001b[39m \u001b[38;5;241m100\u001b[39m:\n\u001b[0;32m----> 2\u001b[0m     \u001b[43mUpdate\u001b[49m\u001b[43m(\u001b[49m\u001b[38;5;241;43m0.01\u001b[39;49m\u001b[43m,\u001b[49m\u001b[43m \u001b[49m\u001b[38;5;241;43m2.0\u001b[39;49m\u001b[43m,\u001b[49m\u001b[43m \u001b[49m\u001b[38;5;241;43m1.5\u001b[39;49m\u001b[43m)\u001b[49m\n\u001b[1;32m      3\u001b[0m     Observe()\n\u001b[1;32m      4\u001b[0m Timesteps\u001b[38;5;241m=\u001b[39m timesteps\n",
      "Input \u001b[0;32mIn [101]\u001b[0m, in \u001b[0;36mUpdate\u001b[0;34m(h, B, a)\u001b[0m\n\u001b[1;32m      3\u001b[0m \u001b[38;5;28;01mglobal\u001b[39;00m S, I, N, resultS, resultI, t, timesteps\n\u001b[1;32m      4\u001b[0m \u001b[38;5;66;03m#I= I + (B*S*I - a*I) * h\u001b[39;00m\n\u001b[1;32m      5\u001b[0m \u001b[38;5;66;03m#S= S + (-B*S*I + a*I)* h\u001b[39;00m\n\u001b[0;32m----> 6\u001b[0m I\u001b[38;5;241m=\u001b[39m I \u001b[38;5;241m+\u001b[39m (B\u001b[38;5;241m*\u001b[39m\u001b[43mN\u001b[49m\u001b[38;5;241m-\u001b[39ma)\u001b[38;5;241m*\u001b[39mI\u001b[38;5;241m*\u001b[39mh\n\u001b[1;32m      7\u001b[0m t\u001b[38;5;241m=\u001b[39m t \u001b[38;5;241m+\u001b[39m  h\n",
      "\u001b[0;31mNameError\u001b[0m: name 'N' is not defined"
     ]
    }
   ],
   "source": [
    "while t < 100:\n",
    "    Update(0.01, 2.0, 1.5)\n",
    "    Observe()\n",
    "Timesteps= timesteps\n",
    "susceptible= resultS\n",
    "infected= resultI"
   ]
  },
  {
   "cell_type": "code",
   "execution_count": 93,
   "id": "57898fea",
   "metadata": {},
   "outputs": [
    {
     "data": {
      "text/plain": [
       "<matplotlib.legend.Legend at 0x7fc6a972ca00>"
      ]
     },
     "execution_count": 93,
     "metadata": {},
     "output_type": "execute_result"
    },
    {
     "data": {
      "image/png": "[encoded data removed]",
      "text/plain": [
       "<Figure size 432x288 with 1 Axes>"
      ]
     },
     "metadata": {
      "needs_background": "light"
     },
     "output_type": "display_data"
    }
   ],
   "source": [
    "plot(timesteps, susceptible, label='susceptible')\n",
    "plot(timesteps, infected, label='infected')\n",
    "xlabel('Time')\n",
    "ylabel('Population')\n",
    "title('SIS Model: Euler\\'s Method')\n",
    "legend()\n",
    "#savefig('Small h vs Large H Heun.png')"
   ]
  },
  {
   "cell_type": "code",
   "execution_count": null,
   "id": "435b6da2",
   "metadata": {},
   "outputs": [],
   "source": []
  }
 ],
 "metadata": {
  "kernelspec": {
   "display_name": "Python 3 (ipykernel)",
   "language": "python",
   "name": "python3"
  },
  "language_info": {
   "codemirror_mode": {
    "name": "ipython",
    "version": 3
   },
   "file_extension": ".py",
   "mimetype": "text/x-python",
   "name": "python",
   "nbconvert_exporter": "python",
   "pygments_lexer": "ipython3",
   "version": "3.9.12"
  }
 },
 "nbformat": 4,
 "nbformat_minor": 5
}
